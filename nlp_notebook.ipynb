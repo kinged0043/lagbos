{
 "cells": [
  {
   "cell_type": "code",
   "execution_count": null,
   "metadata": {},
   "outputs": [],
   "source": [
    "from deep_translator import GoogleTranslator\n",
    "\n",
    "words = input()\n",
    "\n",
    "def translate(text):\n",
    "    igbo_text = GoogleTranslator(target='ig').translate(text)\n",
    "    hausa_text = GoogleTranslator(target='ha').translate(text)\n",
    "    yourba_text = GoogleTranslator(target='yo').translate(text)\n",
    "\n",
    "    print(igbo_text)\n",
    "    print(yourba_text)\n",
    "    print(hausa_text)\n",
    "\n",
    "translate(words)"
   ]
  },
  {
   "cell_type": "code",
   "execution_count": 10,
   "metadata": {},
   "outputs": [
    {
     "name": "stdout",
     "output_type": "stream",
     "text": [
      "say something\n",
      "you said: good afternoon\n",
      "ehihie ọma\n",
      "e kaasan\n",
      "barka da rana\n"
     ]
    }
   ],
   "source": [
    "import speech_recognition as sr\n",
    "from deep_translator import GoogleTranslator\n",
    "\n",
    "r = sr.Recognizer()\n",
    "\n",
    "with sr.Microphone() as source:\n",
    "    print('say something')\n",
    "    audio = r.listen(source)\n",
    "try:\n",
    "    text = r.recognize_google(audio)\n",
    "    print(\"you said: \" + text)\n",
    "    igbo_text = GoogleTranslator(target='ig').translate(text)\n",
    "    hausa_text = GoogleTranslator(target='ha').translate(text)\n",
    "    yourba_text = GoogleTranslator(target='yo').translate(text)\n",
    "\n",
    "    print(igbo_text)\n",
    "    print(yourba_text)\n",
    "    print(hausa_text)\n",
    "except:\n",
    "    print(\"come again?!\")\n"
   ]
  }
 ],
 "metadata": {
  "kernelspec": {
   "display_name": "Python 3",
   "language": "python",
   "name": "python3"
  },
  "language_info": {
   "codemirror_mode": {
    "name": "ipython",
    "version": 3
   },
   "file_extension": ".py",
   "mimetype": "text/x-python",
   "name": "python",
   "nbconvert_exporter": "python",
   "pygments_lexer": "ipython3",
   "version": "3.11.1"
  },
  "orig_nbformat": 4
 },
 "nbformat": 4,
 "nbformat_minor": 2
}
