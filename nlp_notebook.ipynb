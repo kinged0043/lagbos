{
 "cells": [
  {
   "cell_type": "code",
   "execution_count": null,
   "metadata": {},
   "outputs": [],
   "source": [
    "from deep_translator import GoogleTranslator\n",
    "\n",
    "words = input()\n",
    "\n",
    "def translate(text):\n",
    "    igbo_text = GoogleTranslator(target='ig').translate(text)\n",
    "    hausa_text = GoogleTranslator(target='ha').translate(text)\n",
    "    yourba_text = GoogleTranslator(target='yo').translate(text)\n",
    "\n",
    "    print(igbo_text)\n",
    "    print(yourba_text)\n",
    "    print(hausa_text)\n",
    "\n",
    "translate(words)"
   ]
  },
  {
   "cell_type": "code",
   "execution_count": null,
   "metadata": {},
   "outputs": [],
   "source": [
    "import speech_recognition as sr\n",
    "\n",
    "r = sr.Recognizer()\n",
    "\n",
    "with sr.Microphone() as source:\n",
    "    print('say something')\n",
    "    audio = r.listen(source)\n",
    "try:\n",
    "    text = r.recognize_google(audio)\n",
    "    print(\"you said\" + text)\n",
    "except:\n",
    "    print(\"come again?!\")"
   ]
  }
 ],
 "metadata": {
  "language_info": {
   "name": "python"
  },
  "orig_nbformat": 4
 },
 "nbformat": 4,
 "nbformat_minor": 2
}
