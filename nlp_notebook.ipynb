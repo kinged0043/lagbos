{
 "cells": [
  {
   "cell_type": "code",
   "execution_count": 12,
   "metadata": {},
   "outputs": [
    {
     "name": "stdout",
     "output_type": "stream",
     "text": [
      "say something\n",
      "you said: how are you busy\n",
      "kedu ka ị si arụ ọrụ\n",
      "bawo ni o ṣe n ṣiṣẹ\n",
      "ya ya kake aiki\n"
     ]
    }
   ],
   "source": [
    "import speech_recognition as sr # package for speech to text\n",
    "from deep_translator import GoogleTranslator # package for english to native languages\n",
    "\n",
    "r = sr.Recognizer() # speech recognition object\n",
    "\n",
    "with sr.Microphone() as source:\n",
    "    # this section of the code converts the audio(english) from my laptops mic to text\n",
    "    print('say something')\n",
    "    audio = r.listen(source)\n",
    "try:\n",
    "    # this part of the code converts the english audio to text \n",
    "    text = r.recognize_google(audio)\n",
    "    print(\"you said: \" + text)\n",
    "    # this part converts the text to 3 different languages \n",
    "    igbo_text = GoogleTranslator(source='auto', target='ig').translate(text)\n",
    "    hausa_text = GoogleTranslator(source='auto', target='ha').translate(text)\n",
    "    yourba_text = GoogleTranslator(source='auto', target='yo').translate(text)\n",
    "    # this part prints out the translated text to the terminal\n",
    "    print(igbo_text)\n",
    "    print(yourba_text)\n",
    "    print(hausa_text)\n",
    "except:\n",
    "    print(\"come again?!\")\n"
   ]
  }
 ],
 "metadata": {
  "kernelspec": {
   "display_name": "Python 3",
   "language": "python",
   "name": "python3"
  },
  "language_info": {
   "codemirror_mode": {
    "name": "ipython",
    "version": 3
   },
   "file_extension": ".py",
   "mimetype": "text/x-python",
   "name": "python",
   "nbconvert_exporter": "python",
   "pygments_lexer": "ipython3",
   "version": "3.11.1"
  },
  "orig_nbformat": 4
 },
 "nbformat": 4,
 "nbformat_minor": 2
}
